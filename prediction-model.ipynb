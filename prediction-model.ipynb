{
 "cells": [
  {
   "cell_type": "markdown",
   "metadata": {},
   "source": [
    "# Accident Hotspot Prediction"
   ]
  },
  {
   "cell_type": "markdown",
   "metadata": {},
   "source": [
    "Road safety is of paramount importance for the Government and the entire mobility ecosystem. While the number of road accidents has reduced over the last couple of years, still the overall number of accidents that occurred in 2017 is alarming. It has been assessed that 90% of the accident fatalities occur due to human error. “Brasilia Declaration on Road Safety” envisages to halve road traffic deaths by the end of this decade. There are number of interventions being adopted to reduce the occurrence of the road accidents. A technological solution/platform which can rate driver behavior and predict accident hot spot is the need of the hour. This will enable enforcement agencies and the commuters to take preemptive actions to avoid accidents."
   ]
  },
  {
   "cell_type": "markdown",
   "metadata": {},
   "source": [
    "The prediction is carried out by taking the example of Bengaluru. We first take the JSON data of Bengaluru and convert it to XLSX using an online tool for better readability. "
   ]
  },
  {
   "cell_type": "code",
   "execution_count": 2,
   "metadata": {},
   "outputs": [],
   "source": [
    "import pandas as pd\n",
    "import numpy as np"
   ]
  },
  {
   "cell_type": "code",
   "execution_count": 3,
   "metadata": {},
   "outputs": [],
   "source": [
    "bdf = pd.read_excel('bangalore-cas-alerts.xlsx')"
   ]
  },
  {
   "cell_type": "code",
   "execution_count": 4,
   "metadata": {},
   "outputs": [
    {
     "name": "stdout",
     "output_type": "stream",
     "text": [
      "<class 'pandas.core.frame.DataFrame'>\n",
      "RangeIndex: 207617 entries, 0 to 207616\n",
      "Data columns (total 7 columns):\n",
      "deviceCode_deviceCode                 207617 non-null int64\n",
      "deviceCode_location_latitude          207617 non-null float64\n",
      "deviceCode_location_longitude         207617 non-null float64\n",
      "deviceCode_location_wardName          207617 non-null object\n",
      "deviceCode_pyld_alarmType             207617 non-null object\n",
      "deviceCode_pyld_speed                 207617 non-null int64\n",
      "deviceCode_time_recordedTime_$date    207617 non-null object\n",
      "dtypes: float64(2), int64(2), object(3)\n",
      "memory usage: 11.1+ MB\n"
     ]
    }
   ],
   "source": [
    "bdf.info()"
   ]
  },
  {
   "cell_type": "code",
   "execution_count": 5,
   "metadata": {},
   "outputs": [
    {
     "data": {
      "text/html": [
       "<div>\n",
       "<style scoped>\n",
       "    .dataframe tbody tr th:only-of-type {\n",
       "        vertical-align: middle;\n",
       "    }\n",
       "\n",
       "    .dataframe tbody tr th {\n",
       "        vertical-align: top;\n",
       "    }\n",
       "\n",
       "    .dataframe thead th {\n",
       "        text-align: right;\n",
       "    }\n",
       "</style>\n",
       "<table border=\"1\" class=\"dataframe\">\n",
       "  <thead>\n",
       "    <tr style=\"text-align: right;\">\n",
       "      <th></th>\n",
       "      <th>deviceCode_deviceCode</th>\n",
       "      <th>deviceCode_location_latitude</th>\n",
       "      <th>deviceCode_location_longitude</th>\n",
       "      <th>deviceCode_location_wardName</th>\n",
       "      <th>deviceCode_pyld_alarmType</th>\n",
       "      <th>deviceCode_pyld_speed</th>\n",
       "      <th>deviceCode_time_recordedTime_$date</th>\n",
       "    </tr>\n",
       "  </thead>\n",
       "  <tbody>\n",
       "    <tr>\n",
       "      <th>0</th>\n",
       "      <td>864504031502210</td>\n",
       "      <td>12.984595</td>\n",
       "      <td>77.744087</td>\n",
       "      <td>Kadugodi</td>\n",
       "      <td>PCW</td>\n",
       "      <td>32</td>\n",
       "      <td>2018-02-01T01:48:59.000Z</td>\n",
       "    </tr>\n",
       "    <tr>\n",
       "      <th>1</th>\n",
       "      <td>864504031502210</td>\n",
       "      <td>12.984595</td>\n",
       "      <td>77.744087</td>\n",
       "      <td>Kadugodi</td>\n",
       "      <td>PCW</td>\n",
       "      <td>32</td>\n",
       "      <td>2018-02-01T01:48:59.000Z</td>\n",
       "    </tr>\n",
       "    <tr>\n",
       "      <th>2</th>\n",
       "      <td>864504031502210</td>\n",
       "      <td>12.987233</td>\n",
       "      <td>77.741119</td>\n",
       "      <td>Garudachar Playa</td>\n",
       "      <td>FCW</td>\n",
       "      <td>41</td>\n",
       "      <td>2018-02-01T01:50:00.000Z</td>\n",
       "    </tr>\n",
       "    <tr>\n",
       "      <th>3</th>\n",
       "      <td>864504031502210</td>\n",
       "      <td>12.987233</td>\n",
       "      <td>77.741119</td>\n",
       "      <td>Garudachar Playa</td>\n",
       "      <td>FCW</td>\n",
       "      <td>41</td>\n",
       "      <td>2018-02-01T01:50:00.000Z</td>\n",
       "    </tr>\n",
       "    <tr>\n",
       "      <th>4</th>\n",
       "      <td>864504031502210</td>\n",
       "      <td>12.987503</td>\n",
       "      <td>77.740051</td>\n",
       "      <td>Hudi</td>\n",
       "      <td>Overspeed</td>\n",
       "      <td>37</td>\n",
       "      <td>2018-02-01T01:50:11.000Z</td>\n",
       "    </tr>\n",
       "    <tr>\n",
       "      <th>5</th>\n",
       "      <td>864504031502210</td>\n",
       "      <td>12.987503</td>\n",
       "      <td>77.740051</td>\n",
       "      <td>Hudi</td>\n",
       "      <td>Overspeed</td>\n",
       "      <td>37</td>\n",
       "      <td>2018-02-01T01:50:11.000Z</td>\n",
       "    </tr>\n",
       "    <tr>\n",
       "      <th>6</th>\n",
       "      <td>864504031502210</td>\n",
       "      <td>12.987523</td>\n",
       "      <td>77.736702</td>\n",
       "      <td>Kadugodi</td>\n",
       "      <td>HMW</td>\n",
       "      <td>32</td>\n",
       "      <td>2018-02-01T01:50:50.000Z</td>\n",
       "    </tr>\n",
       "    <tr>\n",
       "      <th>7</th>\n",
       "      <td>864504031502210</td>\n",
       "      <td>12.987523</td>\n",
       "      <td>77.736702</td>\n",
       "      <td>Kadugodi</td>\n",
       "      <td>HMW</td>\n",
       "      <td>32</td>\n",
       "      <td>2018-02-01T01:50:50.000Z</td>\n",
       "    </tr>\n",
       "    <tr>\n",
       "      <th>8</th>\n",
       "      <td>864504031502210</td>\n",
       "      <td>12.988210</td>\n",
       "      <td>77.731369</td>\n",
       "      <td>Hudi</td>\n",
       "      <td>Overspeed</td>\n",
       "      <td>27</td>\n",
       "      <td>2018-02-01T01:52:26.000Z</td>\n",
       "    </tr>\n",
       "    <tr>\n",
       "      <th>9</th>\n",
       "      <td>864504031502210</td>\n",
       "      <td>12.988210</td>\n",
       "      <td>77.731369</td>\n",
       "      <td>Hudi</td>\n",
       "      <td>Overspeed</td>\n",
       "      <td>27</td>\n",
       "      <td>2018-02-01T01:52:26.000Z</td>\n",
       "    </tr>\n",
       "  </tbody>\n",
       "</table>\n",
       "</div>"
      ],
      "text/plain": [
       "   deviceCode_deviceCode  deviceCode_location_latitude  \\\n",
       "0        864504031502210                     12.984595   \n",
       "1        864504031502210                     12.984595   \n",
       "2        864504031502210                     12.987233   \n",
       "3        864504031502210                     12.987233   \n",
       "4        864504031502210                     12.987503   \n",
       "5        864504031502210                     12.987503   \n",
       "6        864504031502210                     12.987523   \n",
       "7        864504031502210                     12.987523   \n",
       "8        864504031502210                     12.988210   \n",
       "9        864504031502210                     12.988210   \n",
       "\n",
       "   deviceCode_location_longitude deviceCode_location_wardName  \\\n",
       "0                      77.744087                     Kadugodi   \n",
       "1                      77.744087                     Kadugodi   \n",
       "2                      77.741119             Garudachar Playa   \n",
       "3                      77.741119             Garudachar Playa   \n",
       "4                      77.740051                         Hudi   \n",
       "5                      77.740051                         Hudi   \n",
       "6                      77.736702                     Kadugodi   \n",
       "7                      77.736702                     Kadugodi   \n",
       "8                      77.731369                         Hudi   \n",
       "9                      77.731369                         Hudi   \n",
       "\n",
       "  deviceCode_pyld_alarmType  deviceCode_pyld_speed  \\\n",
       "0                       PCW                     32   \n",
       "1                       PCW                     32   \n",
       "2                       FCW                     41   \n",
       "3                       FCW                     41   \n",
       "4                 Overspeed                     37   \n",
       "5                 Overspeed                     37   \n",
       "6                       HMW                     32   \n",
       "7                       HMW                     32   \n",
       "8                 Overspeed                     27   \n",
       "9                 Overspeed                     27   \n",
       "\n",
       "  deviceCode_time_recordedTime_$date  \n",
       "0           2018-02-01T01:48:59.000Z  \n",
       "1           2018-02-01T01:48:59.000Z  \n",
       "2           2018-02-01T01:50:00.000Z  \n",
       "3           2018-02-01T01:50:00.000Z  \n",
       "4           2018-02-01T01:50:11.000Z  \n",
       "5           2018-02-01T01:50:11.000Z  \n",
       "6           2018-02-01T01:50:50.000Z  \n",
       "7           2018-02-01T01:50:50.000Z  \n",
       "8           2018-02-01T01:52:26.000Z  \n",
       "9           2018-02-01T01:52:26.000Z  "
      ]
     },
     "execution_count": 5,
     "metadata": {},
     "output_type": "execute_result"
    }
   ],
   "source": [
    "bdf.head(10)"
   ]
  },
  {
   "cell_type": "markdown",
   "metadata": {},
   "source": [
    "We rename the timestamp column for better readability."
   ]
  },
  {
   "cell_type": "code",
   "execution_count": 6,
   "metadata": {},
   "outputs": [],
   "source": [
    "bdf = bdf.rename(columns = {'deviceCode_time_recordedTime_$date':'timestamp'})"
   ]
  },
  {
   "cell_type": "markdown",
   "metadata": {},
   "source": [
    "We extract the date from the timestamp using the inbuilt functions of pandas and datetime libraries."
   ]
  },
  {
   "cell_type": "code",
   "execution_count": 7,
   "metadata": {},
   "outputs": [],
   "source": [
    "bdf['timestamp'] = pd.to_datetime(bdf['timestamp'])\n",
    "bdf['eventDate'] = pd.to_datetime(bdf['timestamp'])\n",
    "bdf['eventDate'] = bdf['eventDate'].dt.strftime('%Y%m%d')"
   ]
  },
  {
   "cell_type": "markdown",
   "metadata": {},
   "source": [
    "We take the hour during which the event occured and map them to different categories to later study if the vehicle was observed during peak hours, early hours, regular hours and so on."
   ]
  },
  {
   "cell_type": "code",
   "execution_count": 8,
   "metadata": {},
   "outputs": [],
   "source": [
    "bdf['e_hour'] = pd.to_datetime(bdf['timestamp'], format = '%H:%M:%S').dt.hour\n",
    "bdf['ehourCat'] = 0\n",
    "bdf['ehourCat'] = np.where((bdf['e_hour'] >= 0) & (bdf['e_hour'] < 6), 1, bdf['ehourCat'])\n",
    "bdf['ehourCat'] = np.where((bdf['e_hour'] >= 6) & (bdf['e_hour'] < 10), 2, bdf['ehourCat'])\n",
    "bdf['ehourCat'] = np.where((bdf['e_hour'] >= 10) & (bdf['e_hour'] < 16), 3, bdf['ehourCat'])\n",
    "bdf['ehourCat'] = np.where((bdf['e_hour'] >= 16) & (bdf['e_hour'] < 21), 4, bdf['ehourCat'])\n",
    "bdf['ehourCat'] = np.where((bdf['e_hour'] >= 21) & (bdf['e_hour'] < 24), 5, bdf['ehourCat'])"
   ]
  },
  {
   "cell_type": "markdown",
   "metadata": {},
   "source": [
    "Currently, we have features such as speed, area, latitude, longitude, the time when the observation was made. In addition to these feature, we believe it would be beneficial to have the weather conditions when these events were observed. In order to do so, we scrape the weather data of Bangalore for the period of February until July 2018 from: https://www.timeanddate.com/weather/india/bangalore"
   ]
  },
  {
   "cell_type": "markdown",
   "metadata": {},
   "source": [
    "The follow block of code below scrapes the weather data and saves it to another XLSX file."
   ]
  },
  {
   "cell_type": "code",
   "execution_count": 9,
   "metadata": {},
   "outputs": [
    {
     "name": "stdout",
     "output_type": "stream",
     "text": [
      "Finished scraping weather data!\n"
     ]
    }
   ],
   "source": [
    "from time import time\n",
    "from datetime import timedelta\n",
    "import datetime\n",
    "from urllib.request import urlopen\n",
    "import re\n",
    "from pandas import ExcelWriter\n",
    "\n",
    "def date_splitter(dateToSplit):\n",
    "    dateToSplit = dateToSplit.split('-', 1)\n",
    "    year = dateToSplit[0]\n",
    "    dateToSplit = dateToSplit[1].split('-', 1)\n",
    "    month = dateToSplit[0]\n",
    "    day = dateToSplit[1]\n",
    "    return year, month, day\n",
    "\n",
    "def extractTime(s):\n",
    "    time = re.findall('\\d+:\\d+', s)\n",
    "    return time\n",
    "\n",
    "def extractConditions(s):\n",
    "    x = re.findall('\"small\",h:\"', s)\n",
    "    condList = []\n",
    "    for i in range(len(x)):\n",
    "        s = s.split('\"small\",h:\"', 1)\n",
    "        s = s[1].split('.\"},{s', 1)\n",
    "        condList.append(s[0])\n",
    "        s = s[1]\n",
    "    return condList\n",
    "\n",
    "def extractVisibility(s):\n",
    "    s = s.replace('&nbsp;', '')\n",
    "    re1 = '(\\\\d+)'\n",
    "    re2 = ''\n",
    "    re3 = 'km'\n",
    "    visibilities = re.findall(re1 + re2 + re3, s)\n",
    "    return visibilities\n",
    "\n",
    "def extractTemperature(s):\n",
    "    s = s.replace('°', '')\n",
    "    s = s.replace('&nbsp;', '')\n",
    "    re1='\\d+'\n",
    "    re2='[A-Z]'\n",
    "    temperatures = re.findall(re1 + re2, s)\n",
    "    tempList = list()\n",
    "    for i in range(len(temperatures)):\n",
    "        x = re.findall(re1, temperatures[i])[0]\n",
    "        tempList.append(x)\n",
    "    return tempList\n",
    "\n",
    "finalRawDf = pd.DataFrame()\n",
    "\n",
    "# datetime.date.today equals 26th August, 2018. Change accordingly to make the script work for the duration of scraping\n",
    "\n",
    "for i in range(26, 193):\n",
    "    startDate = str(datetime.date(2018, 8, 26) + timedelta(days = -i))\n",
    "    d_year, d_month, d_day = date_splitter(startDate)\n",
    "    finalDate = d_year + d_month + d_day\n",
    "    if d_month == '02':\n",
    "        link = 'https://www.timeanddate.com/scripts/cityajax.php?n=india/bangalore&mode=historic&hd=' + finalDate + '&month=2&year=2018&json=1'\n",
    "    elif d_month == '03':\n",
    "        link = 'https://www.timeanddate.com/scripts/cityajax.php?n=india/bangalore&mode=historic&hd=' + finalDate + '&month=3&year=2018&json=1'\n",
    "    elif d_month == '04':\n",
    "        link = 'https://www.timeanddate.com/scripts/cityajax.php?n=india/bangalore&mode=historic&hd=' + finalDate + '&month=4&year=2018&json=1'\n",
    "    elif d_month == '05':\n",
    "        link = 'https://www.timeanddate.com/scripts/cityajax.php?n=india/bangalore&mode=historic&hd=' + finalDate + '&month=5&year=2018&json=1'\n",
    "    elif d_month == '06':\n",
    "        link = 'https://www.timeanddate.com/scripts/cityajax.php?n=india/bangalore&mode=historic&hd=' + finalDate + '&month=6&year=2018&json=1'\n",
    "    elif d_month == '07':\n",
    "        link = 'https://www.timeanddate.com/scripts/cityajax.php?n=india/bangalore&mode=historic&hd=' + finalDate + '&month=7&year=2018&json=1'\n",
    "\n",
    "    #print('Scraping:', link)\n",
    "    html = urlopen(link)\n",
    "    s = html.read().decode('utf-8')\n",
    "\n",
    "    times = extractTime(s)\n",
    "    visibility = extractVisibility(s)\n",
    "    temperature = extractTemperature(s)\n",
    "    condition = extractConditions(s)\n",
    "\n",
    "    if(len(visibility) < len(condition)):\n",
    "        remLength = len(condition) - len(visibility)\n",
    "        for i in range(remLength):\n",
    "            visibility.append(visibility[0])\n",
    "\n",
    "    tempDf = pd.DataFrame({\n",
    "            'weatherDate': finalDate,\n",
    "            'time': times,\n",
    "            'temperature': temperature,\n",
    "            'visibility': visibility,\n",
    "            'condition': condition\n",
    "            })\n",
    "\n",
    "    finalRawDf = finalRawDf.append(tempDf)\n",
    "\n",
    "print('Finished scraping weather data!')\n",
    "writer = ExcelWriter('bangalore-weather.xlsx')\n",
    "finalRawDf.to_excel(writer, index = False, sheet_name = 'Sheet1')\n",
    "writer.save()"
   ]
  },
  {
   "cell_type": "markdown",
   "metadata": {},
   "source": [
    "We read the scraped data file now to get a glimpse of the contents."
   ]
  },
  {
   "cell_type": "code",
   "execution_count": 10,
   "metadata": {},
   "outputs": [],
   "source": [
    "bwdf = pd.read_excel('bangalore-weather.xlsx')"
   ]
  },
  {
   "cell_type": "code",
   "execution_count": 11,
   "metadata": {},
   "outputs": [
    {
     "name": "stdout",
     "output_type": "stream",
     "text": [
      "<class 'pandas.core.frame.DataFrame'>\n",
      "RangeIndex: 4636 entries, 0 to 4635\n",
      "Data columns (total 5 columns):\n",
      "condition      4636 non-null object\n",
      "temperature    4636 non-null int64\n",
      "time           4636 non-null object\n",
      "visibility     4636 non-null int64\n",
      "weatherDate    4636 non-null int64\n",
      "dtypes: int64(3), object(2)\n",
      "memory usage: 181.2+ KB\n"
     ]
    }
   ],
   "source": [
    "bwdf.info()"
   ]
  },
  {
   "cell_type": "code",
   "execution_count": 12,
   "metadata": {},
   "outputs": [
    {
     "data": {
      "text/html": [
       "<div>\n",
       "<style scoped>\n",
       "    .dataframe tbody tr th:only-of-type {\n",
       "        vertical-align: middle;\n",
       "    }\n",
       "\n",
       "    .dataframe tbody tr th {\n",
       "        vertical-align: top;\n",
       "    }\n",
       "\n",
       "    .dataframe thead th {\n",
       "        text-align: right;\n",
       "    }\n",
       "</style>\n",
       "<table border=\"1\" class=\"dataframe\">\n",
       "  <thead>\n",
       "    <tr style=\"text-align: right;\">\n",
       "      <th></th>\n",
       "      <th>condition</th>\n",
       "      <th>temperature</th>\n",
       "      <th>time</th>\n",
       "      <th>visibility</th>\n",
       "      <th>weatherDate</th>\n",
       "    </tr>\n",
       "  </thead>\n",
       "  <tbody>\n",
       "    <tr>\n",
       "      <th>0</th>\n",
       "      <td>Partly cloudy</td>\n",
       "      <td>20</td>\n",
       "      <td>05:30</td>\n",
       "      <td>8</td>\n",
       "      <td>20180731</td>\n",
       "    </tr>\n",
       "    <tr>\n",
       "      <th>1</th>\n",
       "      <td>Partly cloudy</td>\n",
       "      <td>20</td>\n",
       "      <td>06:00</td>\n",
       "      <td>6</td>\n",
       "      <td>20180731</td>\n",
       "    </tr>\n",
       "    <tr>\n",
       "      <th>2</th>\n",
       "      <td>Broken clouds</td>\n",
       "      <td>21</td>\n",
       "      <td>07:00</td>\n",
       "      <td>6</td>\n",
       "      <td>20180731</td>\n",
       "    </tr>\n",
       "    <tr>\n",
       "      <th>3</th>\n",
       "      <td>Broken clouds</td>\n",
       "      <td>22</td>\n",
       "      <td>07:30</td>\n",
       "      <td>6</td>\n",
       "      <td>20180731</td>\n",
       "    </tr>\n",
       "    <tr>\n",
       "      <th>4</th>\n",
       "      <td>Broken clouds</td>\n",
       "      <td>22</td>\n",
       "      <td>08:00</td>\n",
       "      <td>6</td>\n",
       "      <td>20180731</td>\n",
       "    </tr>\n",
       "    <tr>\n",
       "      <th>5</th>\n",
       "      <td>Broken clouds</td>\n",
       "      <td>22</td>\n",
       "      <td>08:30</td>\n",
       "      <td>6</td>\n",
       "      <td>20180731</td>\n",
       "    </tr>\n",
       "    <tr>\n",
       "      <th>6</th>\n",
       "      <td>Broken clouds</td>\n",
       "      <td>23</td>\n",
       "      <td>09:00</td>\n",
       "      <td>6</td>\n",
       "      <td>20180731</td>\n",
       "    </tr>\n",
       "    <tr>\n",
       "      <th>7</th>\n",
       "      <td>Broken clouds</td>\n",
       "      <td>24</td>\n",
       "      <td>09:30</td>\n",
       "      <td>6</td>\n",
       "      <td>20180731</td>\n",
       "    </tr>\n",
       "    <tr>\n",
       "      <th>8</th>\n",
       "      <td>Scattered clouds</td>\n",
       "      <td>24</td>\n",
       "      <td>10:00</td>\n",
       "      <td>8</td>\n",
       "      <td>20180731</td>\n",
       "    </tr>\n",
       "    <tr>\n",
       "      <th>9</th>\n",
       "      <td>Scattered clouds</td>\n",
       "      <td>24</td>\n",
       "      <td>10:30</td>\n",
       "      <td>8</td>\n",
       "      <td>20180731</td>\n",
       "    </tr>\n",
       "  </tbody>\n",
       "</table>\n",
       "</div>"
      ],
      "text/plain": [
       "          condition  temperature   time  visibility  weatherDate\n",
       "0     Partly cloudy           20  05:30           8     20180731\n",
       "1     Partly cloudy           20  06:00           6     20180731\n",
       "2     Broken clouds           21  07:00           6     20180731\n",
       "3     Broken clouds           22  07:30           6     20180731\n",
       "4     Broken clouds           22  08:00           6     20180731\n",
       "5     Broken clouds           22  08:30           6     20180731\n",
       "6     Broken clouds           23  09:00           6     20180731\n",
       "7     Broken clouds           24  09:30           6     20180731\n",
       "8  Scattered clouds           24  10:00           8     20180731\n",
       "9  Scattered clouds           24  10:30           8     20180731"
      ]
     },
     "execution_count": 12,
     "metadata": {},
     "output_type": "execute_result"
    }
   ],
   "source": [
    "bwdf.head(10)"
   ]
  },
  {
   "cell_type": "markdown",
   "metadata": {},
   "source": [
    "We follow similar strategy here to get the hour to equate it to the hour from the previous dataframe of events recorded by the Collision Avoidance System."
   ]
  },
  {
   "cell_type": "code",
   "execution_count": 13,
   "metadata": {},
   "outputs": [],
   "source": [
    "bwdf['w_hour'] = pd.to_datetime(bwdf['time'], format= '%H:%M').dt.hour\n",
    "bwdf['hourCat'] = 0\n",
    "bwdf['hourCat'] = np.where((bwdf['w_hour'] >= 0) & (bwdf['w_hour'] < 6), 1, bwdf['hourCat'])\n",
    "bwdf['hourCat'] = np.where((bwdf['w_hour'] >= 6) & (bwdf['w_hour'] < 10), 2, bwdf['hourCat'])\n",
    "bwdf['hourCat'] = np.where((bwdf['w_hour'] >= 10) & (bwdf['w_hour'] < 16), 3, bwdf['hourCat'])\n",
    "bwdf['hourCat'] = np.where((bwdf['w_hour'] >= 16) & (bwdf['w_hour'] < 21), 4, bwdf['hourCat'])\n",
    "bwdf['hourCat'] = np.where((bwdf['w_hour'] >= 21) & (bwdf['w_hour'] < 24), 5, bwdf['hourCat'])\n",
    "bwdf = bwdf.drop_duplicates(subset = ['weatherDate', 'hourCat'], keep = 'first')\n",
    "bwdf['ehourCat'] = bwdf['hourCat']\n",
    "bwdf['weatherDate'] = bwdf['weatherDate'].astype(str)"
   ]
  },
  {
   "cell_type": "markdown",
   "metadata": {},
   "source": [
    "To merge the two dataframes on a mutual column, we create an extra column with the same name weatherDate in our previous dataframe bdf."
   ]
  },
  {
   "cell_type": "code",
   "execution_count": 14,
   "metadata": {},
   "outputs": [],
   "source": [
    "bdf['weatherDate'] = bdf['eventDate']\n",
    "bdf['weatherDate'] = bdf['weatherDate'].astype(str)"
   ]
  },
  {
   "cell_type": "code",
   "execution_count": 15,
   "metadata": {},
   "outputs": [],
   "source": [
    "b1 = pd.merge(bdf, bwdf, on = ['weatherDate', 'ehourCat'], how = 'left')"
   ]
  },
  {
   "cell_type": "markdown",
   "metadata": {},
   "source": [
    "Our merged dataset now looks like shown below."
   ]
  },
  {
   "cell_type": "code",
   "execution_count": 16,
   "metadata": {},
   "outputs": [
    {
     "name": "stdout",
     "output_type": "stream",
     "text": [
      "<class 'pandas.core.frame.DataFrame'>\n",
      "Int64Index: 207617 entries, 0 to 207616\n",
      "Data columns (total 17 columns):\n",
      "deviceCode_deviceCode            207617 non-null int64\n",
      "deviceCode_location_latitude     207617 non-null float64\n",
      "deviceCode_location_longitude    207617 non-null float64\n",
      "deviceCode_location_wardName     207617 non-null object\n",
      "deviceCode_pyld_alarmType        207617 non-null object\n",
      "deviceCode_pyld_speed            207617 non-null int64\n",
      "timestamp                        207617 non-null datetime64[ns]\n",
      "eventDate                        207617 non-null object\n",
      "e_hour                           207617 non-null int64\n",
      "ehourCat                         207617 non-null int64\n",
      "weatherDate                      207617 non-null object\n",
      "condition                        190275 non-null object\n",
      "temperature                      190275 non-null float64\n",
      "time                             190275 non-null object\n",
      "visibility                       190275 non-null float64\n",
      "w_hour                           190275 non-null float64\n",
      "hourCat                          190275 non-null float64\n",
      "dtypes: datetime64[ns](1), float64(6), int64(4), object(6)\n",
      "memory usage: 28.5+ MB\n"
     ]
    }
   ],
   "source": [
    "b1.info()"
   ]
  },
  {
   "cell_type": "code",
   "execution_count": 17,
   "metadata": {},
   "outputs": [
    {
     "data": {
      "text/html": [
       "<div>\n",
       "<style scoped>\n",
       "    .dataframe tbody tr th:only-of-type {\n",
       "        vertical-align: middle;\n",
       "    }\n",
       "\n",
       "    .dataframe tbody tr th {\n",
       "        vertical-align: top;\n",
       "    }\n",
       "\n",
       "    .dataframe thead th {\n",
       "        text-align: right;\n",
       "    }\n",
       "</style>\n",
       "<table border=\"1\" class=\"dataframe\">\n",
       "  <thead>\n",
       "    <tr style=\"text-align: right;\">\n",
       "      <th></th>\n",
       "      <th>deviceCode_deviceCode</th>\n",
       "      <th>deviceCode_location_latitude</th>\n",
       "      <th>deviceCode_location_longitude</th>\n",
       "      <th>deviceCode_location_wardName</th>\n",
       "      <th>deviceCode_pyld_alarmType</th>\n",
       "      <th>deviceCode_pyld_speed</th>\n",
       "      <th>timestamp</th>\n",
       "      <th>eventDate</th>\n",
       "      <th>e_hour</th>\n",
       "      <th>ehourCat</th>\n",
       "      <th>weatherDate</th>\n",
       "      <th>condition</th>\n",
       "      <th>temperature</th>\n",
       "      <th>time</th>\n",
       "      <th>visibility</th>\n",
       "      <th>w_hour</th>\n",
       "      <th>hourCat</th>\n",
       "    </tr>\n",
       "  </thead>\n",
       "  <tbody>\n",
       "    <tr>\n",
       "      <th>0</th>\n",
       "      <td>864504031502210</td>\n",
       "      <td>12.984595</td>\n",
       "      <td>77.744087</td>\n",
       "      <td>Kadugodi</td>\n",
       "      <td>PCW</td>\n",
       "      <td>32</td>\n",
       "      <td>2018-02-01 01:48:59</td>\n",
       "      <td>20180201</td>\n",
       "      <td>1</td>\n",
       "      <td>1</td>\n",
       "      <td>20180201</td>\n",
       "      <td>NaN</td>\n",
       "      <td>NaN</td>\n",
       "      <td>NaN</td>\n",
       "      <td>NaN</td>\n",
       "      <td>NaN</td>\n",
       "      <td>NaN</td>\n",
       "    </tr>\n",
       "    <tr>\n",
       "      <th>1</th>\n",
       "      <td>864504031502210</td>\n",
       "      <td>12.984595</td>\n",
       "      <td>77.744087</td>\n",
       "      <td>Kadugodi</td>\n",
       "      <td>PCW</td>\n",
       "      <td>32</td>\n",
       "      <td>2018-02-01 01:48:59</td>\n",
       "      <td>20180201</td>\n",
       "      <td>1</td>\n",
       "      <td>1</td>\n",
       "      <td>20180201</td>\n",
       "      <td>NaN</td>\n",
       "      <td>NaN</td>\n",
       "      <td>NaN</td>\n",
       "      <td>NaN</td>\n",
       "      <td>NaN</td>\n",
       "      <td>NaN</td>\n",
       "    </tr>\n",
       "    <tr>\n",
       "      <th>2</th>\n",
       "      <td>864504031502210</td>\n",
       "      <td>12.987233</td>\n",
       "      <td>77.741119</td>\n",
       "      <td>Garudachar Playa</td>\n",
       "      <td>FCW</td>\n",
       "      <td>41</td>\n",
       "      <td>2018-02-01 01:50:00</td>\n",
       "      <td>20180201</td>\n",
       "      <td>1</td>\n",
       "      <td>1</td>\n",
       "      <td>20180201</td>\n",
       "      <td>NaN</td>\n",
       "      <td>NaN</td>\n",
       "      <td>NaN</td>\n",
       "      <td>NaN</td>\n",
       "      <td>NaN</td>\n",
       "      <td>NaN</td>\n",
       "    </tr>\n",
       "    <tr>\n",
       "      <th>3</th>\n",
       "      <td>864504031502210</td>\n",
       "      <td>12.987233</td>\n",
       "      <td>77.741119</td>\n",
       "      <td>Garudachar Playa</td>\n",
       "      <td>FCW</td>\n",
       "      <td>41</td>\n",
       "      <td>2018-02-01 01:50:00</td>\n",
       "      <td>20180201</td>\n",
       "      <td>1</td>\n",
       "      <td>1</td>\n",
       "      <td>20180201</td>\n",
       "      <td>NaN</td>\n",
       "      <td>NaN</td>\n",
       "      <td>NaN</td>\n",
       "      <td>NaN</td>\n",
       "      <td>NaN</td>\n",
       "      <td>NaN</td>\n",
       "    </tr>\n",
       "    <tr>\n",
       "      <th>4</th>\n",
       "      <td>864504031502210</td>\n",
       "      <td>12.987503</td>\n",
       "      <td>77.740051</td>\n",
       "      <td>Hudi</td>\n",
       "      <td>Overspeed</td>\n",
       "      <td>37</td>\n",
       "      <td>2018-02-01 01:50:11</td>\n",
       "      <td>20180201</td>\n",
       "      <td>1</td>\n",
       "      <td>1</td>\n",
       "      <td>20180201</td>\n",
       "      <td>NaN</td>\n",
       "      <td>NaN</td>\n",
       "      <td>NaN</td>\n",
       "      <td>NaN</td>\n",
       "      <td>NaN</td>\n",
       "      <td>NaN</td>\n",
       "    </tr>\n",
       "    <tr>\n",
       "      <th>5</th>\n",
       "      <td>864504031502210</td>\n",
       "      <td>12.987503</td>\n",
       "      <td>77.740051</td>\n",
       "      <td>Hudi</td>\n",
       "      <td>Overspeed</td>\n",
       "      <td>37</td>\n",
       "      <td>2018-02-01 01:50:11</td>\n",
       "      <td>20180201</td>\n",
       "      <td>1</td>\n",
       "      <td>1</td>\n",
       "      <td>20180201</td>\n",
       "      <td>NaN</td>\n",
       "      <td>NaN</td>\n",
       "      <td>NaN</td>\n",
       "      <td>NaN</td>\n",
       "      <td>NaN</td>\n",
       "      <td>NaN</td>\n",
       "    </tr>\n",
       "    <tr>\n",
       "      <th>6</th>\n",
       "      <td>864504031502210</td>\n",
       "      <td>12.987523</td>\n",
       "      <td>77.736702</td>\n",
       "      <td>Kadugodi</td>\n",
       "      <td>HMW</td>\n",
       "      <td>32</td>\n",
       "      <td>2018-02-01 01:50:50</td>\n",
       "      <td>20180201</td>\n",
       "      <td>1</td>\n",
       "      <td>1</td>\n",
       "      <td>20180201</td>\n",
       "      <td>NaN</td>\n",
       "      <td>NaN</td>\n",
       "      <td>NaN</td>\n",
       "      <td>NaN</td>\n",
       "      <td>NaN</td>\n",
       "      <td>NaN</td>\n",
       "    </tr>\n",
       "    <tr>\n",
       "      <th>7</th>\n",
       "      <td>864504031502210</td>\n",
       "      <td>12.987523</td>\n",
       "      <td>77.736702</td>\n",
       "      <td>Kadugodi</td>\n",
       "      <td>HMW</td>\n",
       "      <td>32</td>\n",
       "      <td>2018-02-01 01:50:50</td>\n",
       "      <td>20180201</td>\n",
       "      <td>1</td>\n",
       "      <td>1</td>\n",
       "      <td>20180201</td>\n",
       "      <td>NaN</td>\n",
       "      <td>NaN</td>\n",
       "      <td>NaN</td>\n",
       "      <td>NaN</td>\n",
       "      <td>NaN</td>\n",
       "      <td>NaN</td>\n",
       "    </tr>\n",
       "    <tr>\n",
       "      <th>8</th>\n",
       "      <td>864504031502210</td>\n",
       "      <td>12.988210</td>\n",
       "      <td>77.731369</td>\n",
       "      <td>Hudi</td>\n",
       "      <td>Overspeed</td>\n",
       "      <td>27</td>\n",
       "      <td>2018-02-01 01:52:26</td>\n",
       "      <td>20180201</td>\n",
       "      <td>1</td>\n",
       "      <td>1</td>\n",
       "      <td>20180201</td>\n",
       "      <td>NaN</td>\n",
       "      <td>NaN</td>\n",
       "      <td>NaN</td>\n",
       "      <td>NaN</td>\n",
       "      <td>NaN</td>\n",
       "      <td>NaN</td>\n",
       "    </tr>\n",
       "    <tr>\n",
       "      <th>9</th>\n",
       "      <td>864504031502210</td>\n",
       "      <td>12.988210</td>\n",
       "      <td>77.731369</td>\n",
       "      <td>Hudi</td>\n",
       "      <td>Overspeed</td>\n",
       "      <td>27</td>\n",
       "      <td>2018-02-01 01:52:26</td>\n",
       "      <td>20180201</td>\n",
       "      <td>1</td>\n",
       "      <td>1</td>\n",
       "      <td>20180201</td>\n",
       "      <td>NaN</td>\n",
       "      <td>NaN</td>\n",
       "      <td>NaN</td>\n",
       "      <td>NaN</td>\n",
       "      <td>NaN</td>\n",
       "      <td>NaN</td>\n",
       "    </tr>\n",
       "  </tbody>\n",
       "</table>\n",
       "</div>"
      ],
      "text/plain": [
       "   deviceCode_deviceCode  deviceCode_location_latitude  \\\n",
       "0        864504031502210                     12.984595   \n",
       "1        864504031502210                     12.984595   \n",
       "2        864504031502210                     12.987233   \n",
       "3        864504031502210                     12.987233   \n",
       "4        864504031502210                     12.987503   \n",
       "5        864504031502210                     12.987503   \n",
       "6        864504031502210                     12.987523   \n",
       "7        864504031502210                     12.987523   \n",
       "8        864504031502210                     12.988210   \n",
       "9        864504031502210                     12.988210   \n",
       "\n",
       "   deviceCode_location_longitude deviceCode_location_wardName  \\\n",
       "0                      77.744087                     Kadugodi   \n",
       "1                      77.744087                     Kadugodi   \n",
       "2                      77.741119             Garudachar Playa   \n",
       "3                      77.741119             Garudachar Playa   \n",
       "4                      77.740051                         Hudi   \n",
       "5                      77.740051                         Hudi   \n",
       "6                      77.736702                     Kadugodi   \n",
       "7                      77.736702                     Kadugodi   \n",
       "8                      77.731369                         Hudi   \n",
       "9                      77.731369                         Hudi   \n",
       "\n",
       "  deviceCode_pyld_alarmType  deviceCode_pyld_speed           timestamp  \\\n",
       "0                       PCW                     32 2018-02-01 01:48:59   \n",
       "1                       PCW                     32 2018-02-01 01:48:59   \n",
       "2                       FCW                     41 2018-02-01 01:50:00   \n",
       "3                       FCW                     41 2018-02-01 01:50:00   \n",
       "4                 Overspeed                     37 2018-02-01 01:50:11   \n",
       "5                 Overspeed                     37 2018-02-01 01:50:11   \n",
       "6                       HMW                     32 2018-02-01 01:50:50   \n",
       "7                       HMW                     32 2018-02-01 01:50:50   \n",
       "8                 Overspeed                     27 2018-02-01 01:52:26   \n",
       "9                 Overspeed                     27 2018-02-01 01:52:26   \n",
       "\n",
       "  eventDate  e_hour  ehourCat weatherDate condition  temperature time  \\\n",
       "0  20180201       1         1    20180201       NaN          NaN  NaN   \n",
       "1  20180201       1         1    20180201       NaN          NaN  NaN   \n",
       "2  20180201       1         1    20180201       NaN          NaN  NaN   \n",
       "3  20180201       1         1    20180201       NaN          NaN  NaN   \n",
       "4  20180201       1         1    20180201       NaN          NaN  NaN   \n",
       "5  20180201       1         1    20180201       NaN          NaN  NaN   \n",
       "6  20180201       1         1    20180201       NaN          NaN  NaN   \n",
       "7  20180201       1         1    20180201       NaN          NaN  NaN   \n",
       "8  20180201       1         1    20180201       NaN          NaN  NaN   \n",
       "9  20180201       1         1    20180201       NaN          NaN  NaN   \n",
       "\n",
       "   visibility  w_hour  hourCat  \n",
       "0         NaN     NaN      NaN  \n",
       "1         NaN     NaN      NaN  \n",
       "2         NaN     NaN      NaN  \n",
       "3         NaN     NaN      NaN  \n",
       "4         NaN     NaN      NaN  \n",
       "5         NaN     NaN      NaN  \n",
       "6         NaN     NaN      NaN  \n",
       "7         NaN     NaN      NaN  \n",
       "8         NaN     NaN      NaN  \n",
       "9         NaN     NaN      NaN  "
      ]
     },
     "execution_count": 17,
     "metadata": {},
     "output_type": "execute_result"
    }
   ],
   "source": [
    "b1.head(10)"
   ]
  },
  {
   "cell_type": "markdown",
   "metadata": {},
   "source": [
    "We rename the warname column to Area."
   ]
  },
  {
   "cell_type": "code",
   "execution_count": 18,
   "metadata": {},
   "outputs": [],
   "source": [
    "b1 = b1.rename(columns = {'deviceCode_location_wardName':'Area'})"
   ]
  },
  {
   "cell_type": "markdown",
   "metadata": {},
   "source": [
    "The dataset we have currently does not mention about the accident prone zones of Bengaluru. This information was obtained from: http://bengaluru.citizenmatters.in/top-10-places-where-most-accidents-in-bengaluru-take-place-7260"
   ]
  },
  {
   "cell_type": "markdown",
   "metadata": {},
   "source": [
    "We mapped the areas which we have in our dataset to the nearest accident prone zone marked in the link based on the number of fatalities reported by the traffic police. We performed this task manually. "
   ]
  },
  {
   "cell_type": "markdown",
   "metadata": {},
   "source": [
    "Similary, we also obtained the pothole data of Bengaluru from this link and repeated the task of mapping the pothole centric areas to the areas in our initial dataset. The pothole data was obtained manually from: https://www.potholeraja.com/live-potholeview"
   ]
  },
  {
   "cell_type": "code",
   "execution_count": 19,
   "metadata": {},
   "outputs": [],
   "source": [
    "badf = pd.read_excel('bangalore-accident-zones.xlsx')"
   ]
  },
  {
   "cell_type": "markdown",
   "metadata": {},
   "source": [
    "We have a look at the data of accident prone zones and pothole centric zones of Bengaluru. "
   ]
  },
  {
   "cell_type": "code",
   "execution_count": 20,
   "metadata": {},
   "outputs": [
    {
     "name": "stdout",
     "output_type": "stream",
     "text": [
      "<class 'pandas.core.frame.DataFrame'>\n",
      "RangeIndex: 50 entries, 0 to 49\n",
      "Data columns (total 4 columns):\n",
      "Area                 50 non-null object\n",
      "Mapped_Location      50 non-null object\n",
      "Accident_Severity    50 non-null object\n",
      "Pothole_Severity     50 non-null object\n",
      "dtypes: object(4)\n",
      "memory usage: 1.6+ KB\n"
     ]
    }
   ],
   "source": [
    "badf.info()"
   ]
  },
  {
   "cell_type": "code",
   "execution_count": 21,
   "metadata": {},
   "outputs": [
    {
     "data": {
      "text/html": [
       "<div>\n",
       "<style scoped>\n",
       "    .dataframe tbody tr th:only-of-type {\n",
       "        vertical-align: middle;\n",
       "    }\n",
       "\n",
       "    .dataframe tbody tr th {\n",
       "        vertical-align: top;\n",
       "    }\n",
       "\n",
       "    .dataframe thead th {\n",
       "        text-align: right;\n",
       "    }\n",
       "</style>\n",
       "<table border=\"1\" class=\"dataframe\">\n",
       "  <thead>\n",
       "    <tr style=\"text-align: right;\">\n",
       "      <th></th>\n",
       "      <th>Area</th>\n",
       "      <th>Mapped_Location</th>\n",
       "      <th>Accident_Severity</th>\n",
       "      <th>Pothole_Severity</th>\n",
       "    </tr>\n",
       "  </thead>\n",
       "  <tbody>\n",
       "    <tr>\n",
       "      <th>0</th>\n",
       "      <td>A Narayanapura</td>\n",
       "      <td>Electronic City</td>\n",
       "      <td>High</td>\n",
       "      <td>High</td>\n",
       "    </tr>\n",
       "    <tr>\n",
       "      <th>1</th>\n",
       "      <td>Agaram</td>\n",
       "      <td>Electronic City</td>\n",
       "      <td>High</td>\n",
       "      <td>High</td>\n",
       "    </tr>\n",
       "    <tr>\n",
       "      <th>2</th>\n",
       "      <td>Banasavadi</td>\n",
       "      <td>Banasavadi</td>\n",
       "      <td>Low</td>\n",
       "      <td>Low</td>\n",
       "    </tr>\n",
       "    <tr>\n",
       "      <th>3</th>\n",
       "      <td>Basavanapura</td>\n",
       "      <td>K R Puram</td>\n",
       "      <td>Medium</td>\n",
       "      <td>High</td>\n",
       "    </tr>\n",
       "    <tr>\n",
       "      <th>4</th>\n",
       "      <td>Bellanduru</td>\n",
       "      <td>Electronic City</td>\n",
       "      <td>High</td>\n",
       "      <td>High</td>\n",
       "    </tr>\n",
       "    <tr>\n",
       "      <th>5</th>\n",
       "      <td>Benniganahalli</td>\n",
       "      <td>Banasavadi</td>\n",
       "      <td>Low</td>\n",
       "      <td>Low</td>\n",
       "    </tr>\n",
       "    <tr>\n",
       "      <th>6</th>\n",
       "      <td>Bharathi Nagar</td>\n",
       "      <td>K R Puram</td>\n",
       "      <td>Medium</td>\n",
       "      <td>High</td>\n",
       "    </tr>\n",
       "    <tr>\n",
       "      <th>7</th>\n",
       "      <td>BTM Layout</td>\n",
       "      <td>Madivala</td>\n",
       "      <td>High</td>\n",
       "      <td>Medium</td>\n",
       "    </tr>\n",
       "    <tr>\n",
       "      <th>8</th>\n",
       "      <td>C V Raman Nagar</td>\n",
       "      <td>Banasavadi</td>\n",
       "      <td>Low</td>\n",
       "      <td>Low</td>\n",
       "    </tr>\n",
       "    <tr>\n",
       "      <th>9</th>\n",
       "      <td>Chickpete</td>\n",
       "      <td>Madivala</td>\n",
       "      <td>High</td>\n",
       "      <td>Low</td>\n",
       "    </tr>\n",
       "  </tbody>\n",
       "</table>\n",
       "</div>"
      ],
      "text/plain": [
       "              Area  Mapped_Location Accident_Severity Pothole_Severity\n",
       "0   A Narayanapura  Electronic City              High             High\n",
       "1           Agaram  Electronic City              High             High\n",
       "2       Banasavadi       Banasavadi               Low              Low\n",
       "3     Basavanapura        K R Puram            Medium             High\n",
       "4       Bellanduru  Electronic City              High             High\n",
       "5   Benniganahalli       Banasavadi               Low              Low\n",
       "6   Bharathi Nagar        K R Puram            Medium             High\n",
       "7       BTM Layout         Madivala              High           Medium\n",
       "8  C V Raman Nagar       Banasavadi               Low              Low\n",
       "9        Chickpete         Madivala              High              Low"
      ]
     },
     "execution_count": 21,
     "metadata": {},
     "output_type": "execute_result"
    }
   ],
   "source": [
    "badf.head(10)"
   ]
  },
  {
   "cell_type": "markdown",
   "metadata": {},
   "source": [
    "We merge this data to our initial dataset."
   ]
  },
  {
   "cell_type": "code",
   "execution_count": 22,
   "metadata": {},
   "outputs": [],
   "source": [
    "b = pd.merge(b1, badf, on = ['Area'], how = 'left')"
   ]
  },
  {
   "cell_type": "markdown",
   "metadata": {},
   "source": [
    "We rename the Alarm type and Plying speed columns for better readability."
   ]
  },
  {
   "cell_type": "code",
   "execution_count": 23,
   "metadata": {},
   "outputs": [],
   "source": [
    "b = b.rename(columns = {'deviceCode_pyld_alarmType':'Alarm_Type'})\n",
    "b = b.rename(columns = {'deviceCode_pyld_speed':'Plying_Speed'})"
   ]
  },
  {
   "cell_type": "markdown",
   "metadata": {},
   "source": [
    "The city speed limit of Bengaluru is 50kmph but given that some of the roads may connect to highways, we have given extra buffer of 10kmph to mark it as an event of Overpseeding. The source of this information can be found here: http://www.bangaloretrafficpolice.gov.in/faqs.html"
   ]
  },
  {
   "cell_type": "code",
   "execution_count": 24,
   "metadata": {},
   "outputs": [],
   "source": [
    "b['hasOversped'] = np.where(b.Plying_Speed > 60, 1, 0)\n",
    "b['hasOversped'] = np.where(b.Alarm_Type == 'Overspeed', 1, b['hasOversped'])"
   ]
  },
  {
   "cell_type": "markdown",
   "metadata": {},
   "source": [
    "We inspect the current dataset we have to see how it looks so far. "
   ]
  },
  {
   "cell_type": "code",
   "execution_count": 25,
   "metadata": {},
   "outputs": [
    {
     "name": "stdout",
     "output_type": "stream",
     "text": [
      "<class 'pandas.core.frame.DataFrame'>\n",
      "Int64Index: 207617 entries, 0 to 207616\n",
      "Data columns (total 21 columns):\n",
      "deviceCode_deviceCode            207617 non-null int64\n",
      "deviceCode_location_latitude     207617 non-null float64\n",
      "deviceCode_location_longitude    207617 non-null float64\n",
      "Area                             207617 non-null object\n",
      "Alarm_Type                       207617 non-null object\n",
      "Plying_Speed                     207617 non-null int64\n",
      "timestamp                        207617 non-null datetime64[ns]\n",
      "eventDate                        207617 non-null object\n",
      "e_hour                           207617 non-null int64\n",
      "ehourCat                         207617 non-null int64\n",
      "weatherDate                      207617 non-null object\n",
      "condition                        190275 non-null object\n",
      "temperature                      190275 non-null float64\n",
      "time                             190275 non-null object\n",
      "visibility                       190275 non-null float64\n",
      "w_hour                           190275 non-null float64\n",
      "hourCat                          190275 non-null float64\n",
      "Mapped_Location                  207617 non-null object\n",
      "Accident_Severity                207617 non-null object\n",
      "Pothole_Severity                 207617 non-null object\n",
      "hasOversped                      207617 non-null int64\n",
      "dtypes: datetime64[ns](1), float64(6), int64(5), object(9)\n",
      "memory usage: 34.8+ MB\n"
     ]
    }
   ],
   "source": [
    "b.info()"
   ]
  },
  {
   "cell_type": "markdown",
   "metadata": {},
   "source": [
    "Some of the columns do not have enough entries compared to our initial entries. This is due to the fact that the weather scraper could not find information for all the hours when the events were recorded by the Collision Avoidance System. Hence, we replace the NaN data for which we could not find information with the Mode values, that is the most frequently occuring values of certain columns which we will use for our final prediction."
   ]
  },
  {
   "cell_type": "code",
   "execution_count": 26,
   "metadata": {},
   "outputs": [],
   "source": [
    "for column in ['temperature', 'visibility', 'condition']:\n",
    "    b[column].fillna(b[column].mode()[0], inplace=True)"
   ]
  },
  {
   "cell_type": "code",
   "execution_count": 27,
   "metadata": {},
   "outputs": [
    {
     "name": "stdout",
     "output_type": "stream",
     "text": [
      "<class 'pandas.core.frame.DataFrame'>\n",
      "Int64Index: 207617 entries, 0 to 207616\n",
      "Data columns (total 21 columns):\n",
      "deviceCode_deviceCode            207617 non-null int64\n",
      "deviceCode_location_latitude     207617 non-null float64\n",
      "deviceCode_location_longitude    207617 non-null float64\n",
      "Area                             207617 non-null object\n",
      "Alarm_Type                       207617 non-null object\n",
      "Plying_Speed                     207617 non-null int64\n",
      "timestamp                        207617 non-null datetime64[ns]\n",
      "eventDate                        207617 non-null object\n",
      "e_hour                           207617 non-null int64\n",
      "ehourCat                         207617 non-null int64\n",
      "weatherDate                      207617 non-null object\n",
      "condition                        207617 non-null object\n",
      "temperature                      207617 non-null float64\n",
      "time                             190275 non-null object\n",
      "visibility                       207617 non-null float64\n",
      "w_hour                           190275 non-null float64\n",
      "hourCat                          190275 non-null float64\n",
      "Mapped_Location                  207617 non-null object\n",
      "Accident_Severity                207617 non-null object\n",
      "Pothole_Severity                 207617 non-null object\n",
      "hasOversped                      207617 non-null int64\n",
      "dtypes: datetime64[ns](1), float64(6), int64(5), object(9)\n",
      "memory usage: 34.8+ MB\n"
     ]
    }
   ],
   "source": [
    "b.info()"
   ]
  },
  {
   "cell_type": "markdown",
   "metadata": {},
   "source": [
    "The temperature, condition and visibility columns have the same number of records since we replaced them with the Mode values of each of those columns."
   ]
  },
  {
   "cell_type": "markdown",
   "metadata": {},
   "source": [
    "We create a flag for low and high visibility. Anything great than 10 would be equated to high visibility whereas the other case would be low visibility. "
   ]
  },
  {
   "cell_type": "code",
   "execution_count": 28,
   "metadata": {},
   "outputs": [],
   "source": [
    "b['visibility'] = np.where(b['visibility'] < 10, 0, 1)"
   ]
  },
  {
   "cell_type": "markdown",
   "metadata": {},
   "source": [
    "We now map all the columns we need to its numerical equivalent in the form of flags. "
   ]
  },
  {
   "cell_type": "code",
   "execution_count": 29,
   "metadata": {},
   "outputs": [],
   "source": [
    "df = b.copy()\n",
    "df['hasOversped'] = np.where(b.hasOversped == 1, 'Yes', 'No')\n",
    "df['visibility'] = np.where(b.visibility == 0, 'Low', 'High')\n",
    "df['ehourCat'] = b['ehourCat'].map({1: 'Early', 2: 'PeakM', 3: 'RegularM'})\n",
    "b['Accident_Severity'] = b['Accident_Severity'].map({'High': 3, 'Medium': 2, 'Low': 1})\n",
    "b['Pothole_Severity'] = b['Pothole_Severity'].map({'High': 3, 'Medium': 2, 'Low': 1})\n",
    "b['Alarm_Type'] = b['Alarm_Type'].map({'PCW': 1, 'FCW': 2, 'Overspeed': 3, 'HMW': 4, 'UFCW': 5, 'LDWL': 6, 'LDWR': 7})\n",
    "b['condition'] = b['condition'].map({'Clear': 1, 'Sunny': 2, 'Passing clouds': 3,\n",
    "       'Broken clouds': 4, 'Scattered clouds': 5, 'Fog': 6, 'Haze': 7, 'Partly cloudy': 8,\n",
    "       'Mild': 9, 'Drizzle. Broken clouds': 10})\n",
    "b['Area'] = b['Area'].map({'Kadugodi': 1, 'Garudachar Playa': 2, 'Hudi': 3, 'Other': 4, 'Devasandra': 5,\n",
    "       'Hagadur': 6, 'Bellanduru': 7, 'Marathahalli': 8, 'Dodda Nekkundi': 9, 'Varthuru': 10,\n",
    "       'HAL Airport': 11, 'Vijnana Nagar': 12, 'Konena Agrahara': 13, 'A Narayanapura': 14,\n",
    "       'C V Raman Nagar': 15, 'Jeevanbhima Nagar': 16, 'HSR Layout': 17, 'Domlur': 18, 'Jogupalya': 19,\n",
    "       'Hoysala Nagar': 20, 'New Tippasandara': 21, 'Benniganahalli': 22, 'Singasandra': 23,\n",
    "       'Basavanapura': 24, 'Halsoor': 25, 'Agaram': 26, 'Shantala Nagar': 27, 'Sampangiram Nagar': 28,\n",
    "       'Sudham Nagara': 29, 'Dharmaraya Swamy Temple': 30, 'Chickpete': 31, 'Banasavadi': 32,\n",
    "       'Horamavu': 33, 'Kacharkanahalli': 34, 'Kammanahalli': 35, 'Vijnanapura': 36, 'Ramamurthy Nagar': 37,\n",
    "       'K R Puram': 38, 'BTM Layout': 39, 'Madivala': 40, 'Gurappanapalya': 41, 'J P Nagar': 42, 'Sarakki': 43,\n",
    "       'Jaraganahalli': 44, 'Vasanthpura': 45, 'Hemmigepura': 46, 'Yelchenahalli': 47,\n",
    "       'Jayanagar East': 48, 'Bharathi Nagar': 49, 'other': 4})\n",
    "\n",
    "writer = ExcelWriter('bangalore-consolidated-data.xlsx')\n",
    "b.to_excel(writer, index = False, sheet_name = 'Sheet1')\n",
    "df.to_excel(writer, index = False, sheet_name = 'Sheet2')\n",
    "writer.save()"
   ]
  },
  {
   "cell_type": "markdown",
   "metadata": {},
   "source": [
    "We get rid of the columns that we do not need and feel has no impact on the chance of accident likelihood. "
   ]
  },
  {
   "cell_type": "code",
   "execution_count": 30,
   "metadata": {},
   "outputs": [],
   "source": [
    "del b['deviceCode_deviceCode'], b['deviceCode_location_latitude'], b['deviceCode_location_longitude']\n",
    "del b['w_hour'], b['Mapped_Location'], b['timestamp'], b['e_hour'], b['weatherDate']\n",
    "del b['hourCat'], b['time'], b['temperature'], b['eventDate'], b['Plying_Speed']\n",
    "\n",
    "del df['deviceCode_deviceCode'], df['deviceCode_location_latitude'], df['deviceCode_location_longitude']\n",
    "del df['w_hour'], df['Mapped_Location'], df['timestamp'], df['e_hour'], df['weatherDate']\n",
    "del df['hourCat'], df['time'], df['temperature'], df['eventDate'], df['Plying_Speed']"
   ]
  },
  {
   "cell_type": "markdown",
   "metadata": {},
   "source": [
    "We now have two datasets: one that has all the data in words for understandability and the other in numerical format to fit to our prediction model."
   ]
  },
  {
   "cell_type": "code",
   "execution_count": 31,
   "metadata": {},
   "outputs": [
    {
     "name": "stdout",
     "output_type": "stream",
     "text": [
      "<class 'pandas.core.frame.DataFrame'>\n",
      "Int64Index: 207617 entries, 0 to 207616\n",
      "Data columns (total 8 columns):\n",
      "Area                 207617 non-null int64\n",
      "Alarm_Type           207617 non-null int64\n",
      "ehourCat             207617 non-null int64\n",
      "condition            207617 non-null int64\n",
      "visibility           207617 non-null int64\n",
      "Accident_Severity    207617 non-null int64\n",
      "Pothole_Severity     207617 non-null int64\n",
      "hasOversped          207617 non-null int64\n",
      "dtypes: int64(8)\n",
      "memory usage: 14.3 MB\n"
     ]
    }
   ],
   "source": [
    "b.info()"
   ]
  },
  {
   "cell_type": "code",
   "execution_count": 32,
   "metadata": {},
   "outputs": [
    {
     "data": {
      "text/html": [
       "<div>\n",
       "<style scoped>\n",
       "    .dataframe tbody tr th:only-of-type {\n",
       "        vertical-align: middle;\n",
       "    }\n",
       "\n",
       "    .dataframe tbody tr th {\n",
       "        vertical-align: top;\n",
       "    }\n",
       "\n",
       "    .dataframe thead th {\n",
       "        text-align: right;\n",
       "    }\n",
       "</style>\n",
       "<table border=\"1\" class=\"dataframe\">\n",
       "  <thead>\n",
       "    <tr style=\"text-align: right;\">\n",
       "      <th></th>\n",
       "      <th>Area</th>\n",
       "      <th>Alarm_Type</th>\n",
       "      <th>ehourCat</th>\n",
       "      <th>condition</th>\n",
       "      <th>visibility</th>\n",
       "      <th>Accident_Severity</th>\n",
       "      <th>Pothole_Severity</th>\n",
       "      <th>hasOversped</th>\n",
       "    </tr>\n",
       "  </thead>\n",
       "  <tbody>\n",
       "    <tr>\n",
       "      <th>0</th>\n",
       "      <td>1</td>\n",
       "      <td>1</td>\n",
       "      <td>1</td>\n",
       "      <td>3</td>\n",
       "      <td>0</td>\n",
       "      <td>2</td>\n",
       "      <td>2</td>\n",
       "      <td>0</td>\n",
       "    </tr>\n",
       "    <tr>\n",
       "      <th>1</th>\n",
       "      <td>1</td>\n",
       "      <td>1</td>\n",
       "      <td>1</td>\n",
       "      <td>3</td>\n",
       "      <td>0</td>\n",
       "      <td>2</td>\n",
       "      <td>2</td>\n",
       "      <td>0</td>\n",
       "    </tr>\n",
       "    <tr>\n",
       "      <th>2</th>\n",
       "      <td>2</td>\n",
       "      <td>2</td>\n",
       "      <td>1</td>\n",
       "      <td>3</td>\n",
       "      <td>0</td>\n",
       "      <td>2</td>\n",
       "      <td>2</td>\n",
       "      <td>0</td>\n",
       "    </tr>\n",
       "    <tr>\n",
       "      <th>3</th>\n",
       "      <td>2</td>\n",
       "      <td>2</td>\n",
       "      <td>1</td>\n",
       "      <td>3</td>\n",
       "      <td>0</td>\n",
       "      <td>2</td>\n",
       "      <td>2</td>\n",
       "      <td>0</td>\n",
       "    </tr>\n",
       "    <tr>\n",
       "      <th>4</th>\n",
       "      <td>3</td>\n",
       "      <td>3</td>\n",
       "      <td>1</td>\n",
       "      <td>3</td>\n",
       "      <td>0</td>\n",
       "      <td>2</td>\n",
       "      <td>2</td>\n",
       "      <td>1</td>\n",
       "    </tr>\n",
       "    <tr>\n",
       "      <th>5</th>\n",
       "      <td>3</td>\n",
       "      <td>3</td>\n",
       "      <td>1</td>\n",
       "      <td>3</td>\n",
       "      <td>0</td>\n",
       "      <td>2</td>\n",
       "      <td>2</td>\n",
       "      <td>1</td>\n",
       "    </tr>\n",
       "    <tr>\n",
       "      <th>6</th>\n",
       "      <td>1</td>\n",
       "      <td>4</td>\n",
       "      <td>1</td>\n",
       "      <td>3</td>\n",
       "      <td>0</td>\n",
       "      <td>2</td>\n",
       "      <td>2</td>\n",
       "      <td>0</td>\n",
       "    </tr>\n",
       "    <tr>\n",
       "      <th>7</th>\n",
       "      <td>1</td>\n",
       "      <td>4</td>\n",
       "      <td>1</td>\n",
       "      <td>3</td>\n",
       "      <td>0</td>\n",
       "      <td>2</td>\n",
       "      <td>2</td>\n",
       "      <td>0</td>\n",
       "    </tr>\n",
       "    <tr>\n",
       "      <th>8</th>\n",
       "      <td>3</td>\n",
       "      <td>3</td>\n",
       "      <td>1</td>\n",
       "      <td>3</td>\n",
       "      <td>0</td>\n",
       "      <td>2</td>\n",
       "      <td>2</td>\n",
       "      <td>1</td>\n",
       "    </tr>\n",
       "    <tr>\n",
       "      <th>9</th>\n",
       "      <td>3</td>\n",
       "      <td>3</td>\n",
       "      <td>1</td>\n",
       "      <td>3</td>\n",
       "      <td>0</td>\n",
       "      <td>2</td>\n",
       "      <td>2</td>\n",
       "      <td>1</td>\n",
       "    </tr>\n",
       "  </tbody>\n",
       "</table>\n",
       "</div>"
      ],
      "text/plain": [
       "   Area  Alarm_Type  ehourCat  condition  visibility  Accident_Severity  \\\n",
       "0     1           1         1          3           0                  2   \n",
       "1     1           1         1          3           0                  2   \n",
       "2     2           2         1          3           0                  2   \n",
       "3     2           2         1          3           0                  2   \n",
       "4     3           3         1          3           0                  2   \n",
       "5     3           3         1          3           0                  2   \n",
       "6     1           4         1          3           0                  2   \n",
       "7     1           4         1          3           0                  2   \n",
       "8     3           3         1          3           0                  2   \n",
       "9     3           3         1          3           0                  2   \n",
       "\n",
       "   Pothole_Severity  hasOversped  \n",
       "0                 2            0  \n",
       "1                 2            0  \n",
       "2                 2            0  \n",
       "3                 2            0  \n",
       "4                 2            1  \n",
       "5                 2            1  \n",
       "6                 2            0  \n",
       "7                 2            0  \n",
       "8                 2            1  \n",
       "9                 2            1  "
      ]
     },
     "execution_count": 32,
     "metadata": {},
     "output_type": "execute_result"
    }
   ],
   "source": [
    "b.head(10)"
   ]
  },
  {
   "cell_type": "markdown",
   "metadata": {},
   "source": [
    "The equivalent dataset for this which can be in human understandable format is as below."
   ]
  },
  {
   "cell_type": "code",
   "execution_count": 33,
   "metadata": {},
   "outputs": [
    {
     "name": "stdout",
     "output_type": "stream",
     "text": [
      "<class 'pandas.core.frame.DataFrame'>\n",
      "Int64Index: 207617 entries, 0 to 207616\n",
      "Data columns (total 8 columns):\n",
      "Area                 207617 non-null object\n",
      "Alarm_Type           207617 non-null object\n",
      "ehourCat             207617 non-null object\n",
      "condition            207617 non-null object\n",
      "visibility           207617 non-null object\n",
      "Accident_Severity    207617 non-null object\n",
      "Pothole_Severity     207617 non-null object\n",
      "hasOversped          207617 non-null object\n",
      "dtypes: object(8)\n",
      "memory usage: 14.3+ MB\n"
     ]
    }
   ],
   "source": [
    "df.info()"
   ]
  },
  {
   "cell_type": "code",
   "execution_count": 34,
   "metadata": {},
   "outputs": [
    {
     "data": {
      "text/html": [
       "<div>\n",
       "<style scoped>\n",
       "    .dataframe tbody tr th:only-of-type {\n",
       "        vertical-align: middle;\n",
       "    }\n",
       "\n",
       "    .dataframe tbody tr th {\n",
       "        vertical-align: top;\n",
       "    }\n",
       "\n",
       "    .dataframe thead th {\n",
       "        text-align: right;\n",
       "    }\n",
       "</style>\n",
       "<table border=\"1\" class=\"dataframe\">\n",
       "  <thead>\n",
       "    <tr style=\"text-align: right;\">\n",
       "      <th></th>\n",
       "      <th>Area</th>\n",
       "      <th>Alarm_Type</th>\n",
       "      <th>ehourCat</th>\n",
       "      <th>condition</th>\n",
       "      <th>visibility</th>\n",
       "      <th>Accident_Severity</th>\n",
       "      <th>Pothole_Severity</th>\n",
       "      <th>hasOversped</th>\n",
       "    </tr>\n",
       "  </thead>\n",
       "  <tbody>\n",
       "    <tr>\n",
       "      <th>0</th>\n",
       "      <td>Kadugodi</td>\n",
       "      <td>PCW</td>\n",
       "      <td>Early</td>\n",
       "      <td>Passing clouds</td>\n",
       "      <td>Low</td>\n",
       "      <td>Medium</td>\n",
       "      <td>Medium</td>\n",
       "      <td>No</td>\n",
       "    </tr>\n",
       "    <tr>\n",
       "      <th>1</th>\n",
       "      <td>Kadugodi</td>\n",
       "      <td>PCW</td>\n",
       "      <td>Early</td>\n",
       "      <td>Passing clouds</td>\n",
       "      <td>Low</td>\n",
       "      <td>Medium</td>\n",
       "      <td>Medium</td>\n",
       "      <td>No</td>\n",
       "    </tr>\n",
       "    <tr>\n",
       "      <th>2</th>\n",
       "      <td>Garudachar Playa</td>\n",
       "      <td>FCW</td>\n",
       "      <td>Early</td>\n",
       "      <td>Passing clouds</td>\n",
       "      <td>Low</td>\n",
       "      <td>Medium</td>\n",
       "      <td>Medium</td>\n",
       "      <td>No</td>\n",
       "    </tr>\n",
       "    <tr>\n",
       "      <th>3</th>\n",
       "      <td>Garudachar Playa</td>\n",
       "      <td>FCW</td>\n",
       "      <td>Early</td>\n",
       "      <td>Passing clouds</td>\n",
       "      <td>Low</td>\n",
       "      <td>Medium</td>\n",
       "      <td>Medium</td>\n",
       "      <td>No</td>\n",
       "    </tr>\n",
       "    <tr>\n",
       "      <th>4</th>\n",
       "      <td>Hudi</td>\n",
       "      <td>Overspeed</td>\n",
       "      <td>Early</td>\n",
       "      <td>Passing clouds</td>\n",
       "      <td>Low</td>\n",
       "      <td>Medium</td>\n",
       "      <td>Medium</td>\n",
       "      <td>Yes</td>\n",
       "    </tr>\n",
       "    <tr>\n",
       "      <th>5</th>\n",
       "      <td>Hudi</td>\n",
       "      <td>Overspeed</td>\n",
       "      <td>Early</td>\n",
       "      <td>Passing clouds</td>\n",
       "      <td>Low</td>\n",
       "      <td>Medium</td>\n",
       "      <td>Medium</td>\n",
       "      <td>Yes</td>\n",
       "    </tr>\n",
       "    <tr>\n",
       "      <th>6</th>\n",
       "      <td>Kadugodi</td>\n",
       "      <td>HMW</td>\n",
       "      <td>Early</td>\n",
       "      <td>Passing clouds</td>\n",
       "      <td>Low</td>\n",
       "      <td>Medium</td>\n",
       "      <td>Medium</td>\n",
       "      <td>No</td>\n",
       "    </tr>\n",
       "    <tr>\n",
       "      <th>7</th>\n",
       "      <td>Kadugodi</td>\n",
       "      <td>HMW</td>\n",
       "      <td>Early</td>\n",
       "      <td>Passing clouds</td>\n",
       "      <td>Low</td>\n",
       "      <td>Medium</td>\n",
       "      <td>Medium</td>\n",
       "      <td>No</td>\n",
       "    </tr>\n",
       "    <tr>\n",
       "      <th>8</th>\n",
       "      <td>Hudi</td>\n",
       "      <td>Overspeed</td>\n",
       "      <td>Early</td>\n",
       "      <td>Passing clouds</td>\n",
       "      <td>Low</td>\n",
       "      <td>Medium</td>\n",
       "      <td>Medium</td>\n",
       "      <td>Yes</td>\n",
       "    </tr>\n",
       "    <tr>\n",
       "      <th>9</th>\n",
       "      <td>Hudi</td>\n",
       "      <td>Overspeed</td>\n",
       "      <td>Early</td>\n",
       "      <td>Passing clouds</td>\n",
       "      <td>Low</td>\n",
       "      <td>Medium</td>\n",
       "      <td>Medium</td>\n",
       "      <td>Yes</td>\n",
       "    </tr>\n",
       "  </tbody>\n",
       "</table>\n",
       "</div>"
      ],
      "text/plain": [
       "               Area Alarm_Type ehourCat       condition visibility  \\\n",
       "0          Kadugodi        PCW    Early  Passing clouds        Low   \n",
       "1          Kadugodi        PCW    Early  Passing clouds        Low   \n",
       "2  Garudachar Playa        FCW    Early  Passing clouds        Low   \n",
       "3  Garudachar Playa        FCW    Early  Passing clouds        Low   \n",
       "4              Hudi  Overspeed    Early  Passing clouds        Low   \n",
       "5              Hudi  Overspeed    Early  Passing clouds        Low   \n",
       "6          Kadugodi        HMW    Early  Passing clouds        Low   \n",
       "7          Kadugodi        HMW    Early  Passing clouds        Low   \n",
       "8              Hudi  Overspeed    Early  Passing clouds        Low   \n",
       "9              Hudi  Overspeed    Early  Passing clouds        Low   \n",
       "\n",
       "  Accident_Severity Pothole_Severity hasOversped  \n",
       "0            Medium           Medium          No  \n",
       "1            Medium           Medium          No  \n",
       "2            Medium           Medium          No  \n",
       "3            Medium           Medium          No  \n",
       "4            Medium           Medium         Yes  \n",
       "5            Medium           Medium         Yes  \n",
       "6            Medium           Medium          No  \n",
       "7            Medium           Medium          No  \n",
       "8            Medium           Medium         Yes  \n",
       "9            Medium           Medium         Yes  "
      ]
     },
     "execution_count": 34,
     "metadata": {},
     "output_type": "execute_result"
    }
   ],
   "source": [
    "df.head(10)"
   ]
  },
  {
   "cell_type": "markdown",
   "metadata": {},
   "source": [
    "Since the data is unlabeled, we opt for unsupervised learning approach using clustering techniques. We have tried different clustering algorithms but we present the ones which gave us the most suitable labels as per our intuition."
   ]
  },
  {
   "cell_type": "code",
   "execution_count": 35,
   "metadata": {},
   "outputs": [
    {
     "name": "stdout",
     "output_type": "stream",
     "text": [
      "Finished clustering using K-Means\n"
     ]
    }
   ],
   "source": [
    "from sklearn.cluster import KMeans\n",
    "X = b.values.astype(np.float)\n",
    "kmeans = KMeans(n_clusters = 2, max_iter = 2000, algorithm = 'full').fit(X)\n",
    "kmf2labels = kmeans.labels_\n",
    "kmf2labels = kmf2labels.tolist()\n",
    "print('Finished clustering using K-Means')"
   ]
  },
  {
   "cell_type": "markdown",
   "metadata": {},
   "source": [
    "While different variation of K-Means exists, we used the Expectation Maximization method. In order to get better convergence of our datapoints to centroid, we also increased the number of iterations from a default of 300 to 2000. The Expectation Maximization algorithm can be found here: https://en.wikipedia.org/wiki/Expectation–maximization_algorithm"
   ]
  },
  {
   "cell_type": "markdown",
   "metadata": {},
   "source": [
    "We create two sets of clusters here: one for low likelihood accident zones whereas the other one for high likelihood accident zones. "
   ]
  },
  {
   "cell_type": "code",
   "execution_count": 36,
   "metadata": {},
   "outputs": [
    {
     "data": {
      "text/plain": [
       "207617"
      ]
     },
     "execution_count": 36,
     "metadata": {},
     "output_type": "execute_result"
    }
   ],
   "source": [
    "len(kmf2labels)"
   ]
  },
  {
   "cell_type": "markdown",
   "metadata": {},
   "source": [
    "So, we now have labels for all the data points from our dataset containing features: area, accident severity, pothole severity, speed, alarm type, overspeeding flag, hour category, visibility and sky conditions, which can be crucial towards understanding an accident would be taking place or not."
   ]
  },
  {
   "cell_type": "markdown",
   "metadata": {},
   "source": [
    "Let us join this list of labels to the dataframe to study them carefully."
   ]
  },
  {
   "cell_type": "code",
   "execution_count": 37,
   "metadata": {},
   "outputs": [],
   "source": [
    "b['labels'] = kmf2labels\n",
    "df['labels'] = kmf2labels\n",
    "df['labels'] = df['labels'].map({0: 'High', 1: 'Low'})"
   ]
  },
  {
   "cell_type": "code",
   "execution_count": 38,
   "metadata": {},
   "outputs": [
    {
     "data": {
      "text/html": [
       "<div>\n",
       "<style scoped>\n",
       "    .dataframe tbody tr th:only-of-type {\n",
       "        vertical-align: middle;\n",
       "    }\n",
       "\n",
       "    .dataframe tbody tr th {\n",
       "        vertical-align: top;\n",
       "    }\n",
       "\n",
       "    .dataframe thead th {\n",
       "        text-align: right;\n",
       "    }\n",
       "</style>\n",
       "<table border=\"1\" class=\"dataframe\">\n",
       "  <thead>\n",
       "    <tr style=\"text-align: right;\">\n",
       "      <th></th>\n",
       "      <th>Area</th>\n",
       "      <th>Alarm_Type</th>\n",
       "      <th>ehourCat</th>\n",
       "      <th>condition</th>\n",
       "      <th>visibility</th>\n",
       "      <th>Accident_Severity</th>\n",
       "      <th>Pothole_Severity</th>\n",
       "      <th>hasOversped</th>\n",
       "      <th>labels</th>\n",
       "    </tr>\n",
       "  </thead>\n",
       "  <tbody>\n",
       "    <tr>\n",
       "      <th>0</th>\n",
       "      <td>1</td>\n",
       "      <td>1</td>\n",
       "      <td>1</td>\n",
       "      <td>3</td>\n",
       "      <td>0</td>\n",
       "      <td>2</td>\n",
       "      <td>2</td>\n",
       "      <td>0</td>\n",
       "      <td>0</td>\n",
       "    </tr>\n",
       "    <tr>\n",
       "      <th>1</th>\n",
       "      <td>1</td>\n",
       "      <td>1</td>\n",
       "      <td>1</td>\n",
       "      <td>3</td>\n",
       "      <td>0</td>\n",
       "      <td>2</td>\n",
       "      <td>2</td>\n",
       "      <td>0</td>\n",
       "      <td>0</td>\n",
       "    </tr>\n",
       "    <tr>\n",
       "      <th>2</th>\n",
       "      <td>2</td>\n",
       "      <td>2</td>\n",
       "      <td>1</td>\n",
       "      <td>3</td>\n",
       "      <td>0</td>\n",
       "      <td>2</td>\n",
       "      <td>2</td>\n",
       "      <td>0</td>\n",
       "      <td>0</td>\n",
       "    </tr>\n",
       "    <tr>\n",
       "      <th>3</th>\n",
       "      <td>2</td>\n",
       "      <td>2</td>\n",
       "      <td>1</td>\n",
       "      <td>3</td>\n",
       "      <td>0</td>\n",
       "      <td>2</td>\n",
       "      <td>2</td>\n",
       "      <td>0</td>\n",
       "      <td>0</td>\n",
       "    </tr>\n",
       "    <tr>\n",
       "      <th>4</th>\n",
       "      <td>3</td>\n",
       "      <td>3</td>\n",
       "      <td>1</td>\n",
       "      <td>3</td>\n",
       "      <td>0</td>\n",
       "      <td>2</td>\n",
       "      <td>2</td>\n",
       "      <td>1</td>\n",
       "      <td>0</td>\n",
       "    </tr>\n",
       "    <tr>\n",
       "      <th>5</th>\n",
       "      <td>3</td>\n",
       "      <td>3</td>\n",
       "      <td>1</td>\n",
       "      <td>3</td>\n",
       "      <td>0</td>\n",
       "      <td>2</td>\n",
       "      <td>2</td>\n",
       "      <td>1</td>\n",
       "      <td>0</td>\n",
       "    </tr>\n",
       "    <tr>\n",
       "      <th>6</th>\n",
       "      <td>1</td>\n",
       "      <td>4</td>\n",
       "      <td>1</td>\n",
       "      <td>3</td>\n",
       "      <td>0</td>\n",
       "      <td>2</td>\n",
       "      <td>2</td>\n",
       "      <td>0</td>\n",
       "      <td>0</td>\n",
       "    </tr>\n",
       "    <tr>\n",
       "      <th>7</th>\n",
       "      <td>1</td>\n",
       "      <td>4</td>\n",
       "      <td>1</td>\n",
       "      <td>3</td>\n",
       "      <td>0</td>\n",
       "      <td>2</td>\n",
       "      <td>2</td>\n",
       "      <td>0</td>\n",
       "      <td>0</td>\n",
       "    </tr>\n",
       "    <tr>\n",
       "      <th>8</th>\n",
       "      <td>3</td>\n",
       "      <td>3</td>\n",
       "      <td>1</td>\n",
       "      <td>3</td>\n",
       "      <td>0</td>\n",
       "      <td>2</td>\n",
       "      <td>2</td>\n",
       "      <td>1</td>\n",
       "      <td>0</td>\n",
       "    </tr>\n",
       "    <tr>\n",
       "      <th>9</th>\n",
       "      <td>3</td>\n",
       "      <td>3</td>\n",
       "      <td>1</td>\n",
       "      <td>3</td>\n",
       "      <td>0</td>\n",
       "      <td>2</td>\n",
       "      <td>2</td>\n",
       "      <td>1</td>\n",
       "      <td>0</td>\n",
       "    </tr>\n",
       "  </tbody>\n",
       "</table>\n",
       "</div>"
      ],
      "text/plain": [
       "   Area  Alarm_Type  ehourCat  condition  visibility  Accident_Severity  \\\n",
       "0     1           1         1          3           0                  2   \n",
       "1     1           1         1          3           0                  2   \n",
       "2     2           2         1          3           0                  2   \n",
       "3     2           2         1          3           0                  2   \n",
       "4     3           3         1          3           0                  2   \n",
       "5     3           3         1          3           0                  2   \n",
       "6     1           4         1          3           0                  2   \n",
       "7     1           4         1          3           0                  2   \n",
       "8     3           3         1          3           0                  2   \n",
       "9     3           3         1          3           0                  2   \n",
       "\n",
       "   Pothole_Severity  hasOversped  labels  \n",
       "0                 2            0       0  \n",
       "1                 2            0       0  \n",
       "2                 2            0       0  \n",
       "3                 2            0       0  \n",
       "4                 2            1       0  \n",
       "5                 2            1       0  \n",
       "6                 2            0       0  \n",
       "7                 2            0       0  \n",
       "8                 2            1       0  \n",
       "9                 2            1       0  "
      ]
     },
     "execution_count": 38,
     "metadata": {},
     "output_type": "execute_result"
    }
   ],
   "source": [
    "b.head(10)"
   ]
  },
  {
   "cell_type": "code",
   "execution_count": 39,
   "metadata": {},
   "outputs": [
    {
     "data": {
      "text/html": [
       "<div>\n",
       "<style scoped>\n",
       "    .dataframe tbody tr th:only-of-type {\n",
       "        vertical-align: middle;\n",
       "    }\n",
       "\n",
       "    .dataframe tbody tr th {\n",
       "        vertical-align: top;\n",
       "    }\n",
       "\n",
       "    .dataframe thead th {\n",
       "        text-align: right;\n",
       "    }\n",
       "</style>\n",
       "<table border=\"1\" class=\"dataframe\">\n",
       "  <thead>\n",
       "    <tr style=\"text-align: right;\">\n",
       "      <th></th>\n",
       "      <th>Area</th>\n",
       "      <th>Alarm_Type</th>\n",
       "      <th>ehourCat</th>\n",
       "      <th>condition</th>\n",
       "      <th>visibility</th>\n",
       "      <th>Accident_Severity</th>\n",
       "      <th>Pothole_Severity</th>\n",
       "      <th>hasOversped</th>\n",
       "      <th>labels</th>\n",
       "    </tr>\n",
       "  </thead>\n",
       "  <tbody>\n",
       "    <tr>\n",
       "      <th>0</th>\n",
       "      <td>Kadugodi</td>\n",
       "      <td>PCW</td>\n",
       "      <td>Early</td>\n",
       "      <td>Passing clouds</td>\n",
       "      <td>Low</td>\n",
       "      <td>Medium</td>\n",
       "      <td>Medium</td>\n",
       "      <td>No</td>\n",
       "      <td>High</td>\n",
       "    </tr>\n",
       "    <tr>\n",
       "      <th>1</th>\n",
       "      <td>Kadugodi</td>\n",
       "      <td>PCW</td>\n",
       "      <td>Early</td>\n",
       "      <td>Passing clouds</td>\n",
       "      <td>Low</td>\n",
       "      <td>Medium</td>\n",
       "      <td>Medium</td>\n",
       "      <td>No</td>\n",
       "      <td>High</td>\n",
       "    </tr>\n",
       "    <tr>\n",
       "      <th>2</th>\n",
       "      <td>Garudachar Playa</td>\n",
       "      <td>FCW</td>\n",
       "      <td>Early</td>\n",
       "      <td>Passing clouds</td>\n",
       "      <td>Low</td>\n",
       "      <td>Medium</td>\n",
       "      <td>Medium</td>\n",
       "      <td>No</td>\n",
       "      <td>High</td>\n",
       "    </tr>\n",
       "    <tr>\n",
       "      <th>3</th>\n",
       "      <td>Garudachar Playa</td>\n",
       "      <td>FCW</td>\n",
       "      <td>Early</td>\n",
       "      <td>Passing clouds</td>\n",
       "      <td>Low</td>\n",
       "      <td>Medium</td>\n",
       "      <td>Medium</td>\n",
       "      <td>No</td>\n",
       "      <td>High</td>\n",
       "    </tr>\n",
       "    <tr>\n",
       "      <th>4</th>\n",
       "      <td>Hudi</td>\n",
       "      <td>Overspeed</td>\n",
       "      <td>Early</td>\n",
       "      <td>Passing clouds</td>\n",
       "      <td>Low</td>\n",
       "      <td>Medium</td>\n",
       "      <td>Medium</td>\n",
       "      <td>Yes</td>\n",
       "      <td>High</td>\n",
       "    </tr>\n",
       "    <tr>\n",
       "      <th>5</th>\n",
       "      <td>Hudi</td>\n",
       "      <td>Overspeed</td>\n",
       "      <td>Early</td>\n",
       "      <td>Passing clouds</td>\n",
       "      <td>Low</td>\n",
       "      <td>Medium</td>\n",
       "      <td>Medium</td>\n",
       "      <td>Yes</td>\n",
       "      <td>High</td>\n",
       "    </tr>\n",
       "    <tr>\n",
       "      <th>6</th>\n",
       "      <td>Kadugodi</td>\n",
       "      <td>HMW</td>\n",
       "      <td>Early</td>\n",
       "      <td>Passing clouds</td>\n",
       "      <td>Low</td>\n",
       "      <td>Medium</td>\n",
       "      <td>Medium</td>\n",
       "      <td>No</td>\n",
       "      <td>High</td>\n",
       "    </tr>\n",
       "    <tr>\n",
       "      <th>7</th>\n",
       "      <td>Kadugodi</td>\n",
       "      <td>HMW</td>\n",
       "      <td>Early</td>\n",
       "      <td>Passing clouds</td>\n",
       "      <td>Low</td>\n",
       "      <td>Medium</td>\n",
       "      <td>Medium</td>\n",
       "      <td>No</td>\n",
       "      <td>High</td>\n",
       "    </tr>\n",
       "    <tr>\n",
       "      <th>8</th>\n",
       "      <td>Hudi</td>\n",
       "      <td>Overspeed</td>\n",
       "      <td>Early</td>\n",
       "      <td>Passing clouds</td>\n",
       "      <td>Low</td>\n",
       "      <td>Medium</td>\n",
       "      <td>Medium</td>\n",
       "      <td>Yes</td>\n",
       "      <td>High</td>\n",
       "    </tr>\n",
       "    <tr>\n",
       "      <th>9</th>\n",
       "      <td>Hudi</td>\n",
       "      <td>Overspeed</td>\n",
       "      <td>Early</td>\n",
       "      <td>Passing clouds</td>\n",
       "      <td>Low</td>\n",
       "      <td>Medium</td>\n",
       "      <td>Medium</td>\n",
       "      <td>Yes</td>\n",
       "      <td>High</td>\n",
       "    </tr>\n",
       "  </tbody>\n",
       "</table>\n",
       "</div>"
      ],
      "text/plain": [
       "               Area Alarm_Type ehourCat       condition visibility  \\\n",
       "0          Kadugodi        PCW    Early  Passing clouds        Low   \n",
       "1          Kadugodi        PCW    Early  Passing clouds        Low   \n",
       "2  Garudachar Playa        FCW    Early  Passing clouds        Low   \n",
       "3  Garudachar Playa        FCW    Early  Passing clouds        Low   \n",
       "4              Hudi  Overspeed    Early  Passing clouds        Low   \n",
       "5              Hudi  Overspeed    Early  Passing clouds        Low   \n",
       "6          Kadugodi        HMW    Early  Passing clouds        Low   \n",
       "7          Kadugodi        HMW    Early  Passing clouds        Low   \n",
       "8              Hudi  Overspeed    Early  Passing clouds        Low   \n",
       "9              Hudi  Overspeed    Early  Passing clouds        Low   \n",
       "\n",
       "  Accident_Severity Pothole_Severity hasOversped labels  \n",
       "0            Medium           Medium          No   High  \n",
       "1            Medium           Medium          No   High  \n",
       "2            Medium           Medium          No   High  \n",
       "3            Medium           Medium          No   High  \n",
       "4            Medium           Medium         Yes   High  \n",
       "5            Medium           Medium         Yes   High  \n",
       "6            Medium           Medium          No   High  \n",
       "7            Medium           Medium          No   High  \n",
       "8            Medium           Medium         Yes   High  \n",
       "9            Medium           Medium         Yes   High  "
      ]
     },
     "execution_count": 39,
     "metadata": {},
     "output_type": "execute_result"
    }
   ],
   "source": [
    "df.head(10)"
   ]
  },
  {
   "cell_type": "markdown",
   "metadata": {},
   "source": [
    "It can be seen that in cases of medium accident prone zones and pothole severities, overspeeding with low visibility during early hours of the data can have high chances of accident as per the given area and alarm type."
   ]
  },
  {
   "cell_type": "code",
   "execution_count": 40,
   "metadata": {},
   "outputs": [],
   "source": [
    "writer = ExcelWriter('bangalore-labeled-data.xlsx')\n",
    "b.to_excel(writer, index = False, sheet_name = 'Sheet1')\n",
    "df.to_excel(writer, index = False, sheet_name = 'Sheet2')\n",
    "writer.save()"
   ]
  },
  {
   "cell_type": "code",
   "execution_count": 42,
   "metadata": {},
   "outputs": [
    {
     "data": {
      "text/html": [
       "<div>\n",
       "<style scoped>\n",
       "    .dataframe tbody tr th:only-of-type {\n",
       "        vertical-align: middle;\n",
       "    }\n",
       "\n",
       "    .dataframe tbody tr th {\n",
       "        vertical-align: top;\n",
       "    }\n",
       "\n",
       "    .dataframe thead th {\n",
       "        text-align: right;\n",
       "    }\n",
       "</style>\n",
       "<table border=\"1\" class=\"dataframe\">\n",
       "  <thead>\n",
       "    <tr style=\"text-align: right;\">\n",
       "      <th></th>\n",
       "      <th>Area</th>\n",
       "      <th>Alarm_Type</th>\n",
       "      <th>ehourCat</th>\n",
       "      <th>condition</th>\n",
       "      <th>visibility</th>\n",
       "      <th>Accident_Severity</th>\n",
       "      <th>Pothole_Severity</th>\n",
       "      <th>hasOversped</th>\n",
       "      <th>labels</th>\n",
       "    </tr>\n",
       "  </thead>\n",
       "  <tbody>\n",
       "    <tr>\n",
       "      <th>3251</th>\n",
       "      <td>Kadugodi</td>\n",
       "      <td>HMW</td>\n",
       "      <td>PeakM</td>\n",
       "      <td>Passing clouds</td>\n",
       "      <td>Low</td>\n",
       "      <td>Medium</td>\n",
       "      <td>Medium</td>\n",
       "      <td>No</td>\n",
       "      <td>High</td>\n",
       "    </tr>\n",
       "    <tr>\n",
       "      <th>3252</th>\n",
       "      <td>Kadugodi</td>\n",
       "      <td>HMW</td>\n",
       "      <td>PeakM</td>\n",
       "      <td>Passing clouds</td>\n",
       "      <td>Low</td>\n",
       "      <td>Medium</td>\n",
       "      <td>Medium</td>\n",
       "      <td>No</td>\n",
       "      <td>High</td>\n",
       "    </tr>\n",
       "    <tr>\n",
       "      <th>3253</th>\n",
       "      <td>Kadugodi</td>\n",
       "      <td>HMW</td>\n",
       "      <td>PeakM</td>\n",
       "      <td>Passing clouds</td>\n",
       "      <td>Low</td>\n",
       "      <td>Medium</td>\n",
       "      <td>Medium</td>\n",
       "      <td>No</td>\n",
       "      <td>High</td>\n",
       "    </tr>\n",
       "    <tr>\n",
       "      <th>3254</th>\n",
       "      <td>Bellanduru</td>\n",
       "      <td>Overspeed</td>\n",
       "      <td>PeakM</td>\n",
       "      <td>Passing clouds</td>\n",
       "      <td>Low</td>\n",
       "      <td>High</td>\n",
       "      <td>High</td>\n",
       "      <td>Yes</td>\n",
       "      <td>Low</td>\n",
       "    </tr>\n",
       "    <tr>\n",
       "      <th>3255</th>\n",
       "      <td>Bellanduru</td>\n",
       "      <td>Overspeed</td>\n",
       "      <td>PeakM</td>\n",
       "      <td>Passing clouds</td>\n",
       "      <td>Low</td>\n",
       "      <td>High</td>\n",
       "      <td>High</td>\n",
       "      <td>Yes</td>\n",
       "      <td>Low</td>\n",
       "    </tr>\n",
       "    <tr>\n",
       "      <th>3256</th>\n",
       "      <td>Bellanduru</td>\n",
       "      <td>HMW</td>\n",
       "      <td>PeakM</td>\n",
       "      <td>Passing clouds</td>\n",
       "      <td>Low</td>\n",
       "      <td>High</td>\n",
       "      <td>High</td>\n",
       "      <td>No</td>\n",
       "      <td>Low</td>\n",
       "    </tr>\n",
       "    <tr>\n",
       "      <th>3257</th>\n",
       "      <td>Bellanduru</td>\n",
       "      <td>HMW</td>\n",
       "      <td>PeakM</td>\n",
       "      <td>Passing clouds</td>\n",
       "      <td>Low</td>\n",
       "      <td>High</td>\n",
       "      <td>High</td>\n",
       "      <td>No</td>\n",
       "      <td>Low</td>\n",
       "    </tr>\n",
       "    <tr>\n",
       "      <th>3258</th>\n",
       "      <td>Bellanduru</td>\n",
       "      <td>HMW</td>\n",
       "      <td>PeakM</td>\n",
       "      <td>Passing clouds</td>\n",
       "      <td>Low</td>\n",
       "      <td>High</td>\n",
       "      <td>High</td>\n",
       "      <td>No</td>\n",
       "      <td>Low</td>\n",
       "    </tr>\n",
       "    <tr>\n",
       "      <th>3259</th>\n",
       "      <td>Bellanduru</td>\n",
       "      <td>HMW</td>\n",
       "      <td>PeakM</td>\n",
       "      <td>Passing clouds</td>\n",
       "      <td>Low</td>\n",
       "      <td>High</td>\n",
       "      <td>High</td>\n",
       "      <td>No</td>\n",
       "      <td>Low</td>\n",
       "    </tr>\n",
       "  </tbody>\n",
       "</table>\n",
       "</div>"
      ],
      "text/plain": [
       "            Area Alarm_Type ehourCat       condition visibility  \\\n",
       "3251    Kadugodi        HMW    PeakM  Passing clouds        Low   \n",
       "3252    Kadugodi        HMW    PeakM  Passing clouds        Low   \n",
       "3253    Kadugodi        HMW    PeakM  Passing clouds        Low   \n",
       "3254  Bellanduru  Overspeed    PeakM  Passing clouds        Low   \n",
       "3255  Bellanduru  Overspeed    PeakM  Passing clouds        Low   \n",
       "3256  Bellanduru        HMW    PeakM  Passing clouds        Low   \n",
       "3257  Bellanduru        HMW    PeakM  Passing clouds        Low   \n",
       "3258  Bellanduru        HMW    PeakM  Passing clouds        Low   \n",
       "3259  Bellanduru        HMW    PeakM  Passing clouds        Low   \n",
       "\n",
       "     Accident_Severity Pothole_Severity hasOversped labels  \n",
       "3251            Medium           Medium          No   High  \n",
       "3252            Medium           Medium          No   High  \n",
       "3253            Medium           Medium          No   High  \n",
       "3254              High             High         Yes    Low  \n",
       "3255              High             High         Yes    Low  \n",
       "3256              High             High          No    Low  \n",
       "3257              High             High          No    Low  \n",
       "3258              High             High          No    Low  \n",
       "3259              High             High          No    Low  "
      ]
     },
     "execution_count": 42,
     "metadata": {},
     "output_type": "execute_result"
    }
   ],
   "source": [
    "df[3251:3260]"
   ]
  },
  {
   "cell_type": "markdown",
   "metadata": {},
   "source": [
    "From the above results, we can see areas with high accident prone zones and high potholes are more vulnerable to accidents no matter what the conditions are during the morning hours. "
   ]
  },
  {
   "cell_type": "code",
   "execution_count": 43,
   "metadata": {},
   "outputs": [],
   "source": [
    "import seaborn as sns"
   ]
  },
  {
   "cell_type": "code",
   "execution_count": 45,
   "metadata": {},
   "outputs": [
    {
     "data": {
      "text/plain": [
       "<matplotlib.axes._subplots.AxesSubplot at 0x144cf3c88>"
      ]
     },
     "execution_count": 45,
     "metadata": {},
     "output_type": "execute_result"
    },
    {
     "data": {
      "image/png": "[encoded data removed]",
      "text/plain": [
       "<matplotlib.figure.Figure at 0x144dfeac8>"
      ]
     },
     "metadata": {},
     "output_type": "display_data"
    }
   ],
   "source": [
    "sns.violinplot(x = 'labels', y = 'Accident_Severity', data = b)"
   ]
  },
  {
   "cell_type": "code",
   "execution_count": 47,
   "metadata": {},
   "outputs": [
    {
     "data": {
      "text/plain": [
       "<matplotlib.axes._subplots.AxesSubplot at 0x14572c128>"
      ]
     },
     "execution_count": 47,
     "metadata": {},
     "output_type": "execute_result"
    },
    {
     "data": {
      "image/png": "[encoded data removed]",
      "text/plain": [
       "<matplotlib.figure.Figure at 0x145726b00>"
      ]
     },
     "metadata": {},
     "output_type": "display_data"
    }
   ],
   "source": [
    "sns.violinplot(x = 'labels', y = 'hasOversped', data = b)"
   ]
  },
  {
   "cell_type": "code",
   "execution_count": 48,
   "metadata": {},
   "outputs": [
    {
     "data": {
      "text/plain": [
       "<matplotlib.axes._subplots.AxesSubplot at 0x1456e4d68>"
      ]
     },
     "execution_count": 48,
     "metadata": {},
     "output_type": "execute_result"
    },
    {
     "data": {
      "image/png": "[encoded data removed]",
      "text/plain": [
       "<matplotlib.figure.Figure at 0x145714128>"
      ]
     },
     "metadata": {},
     "output_type": "display_data"
    }
   ],
   "source": [
    "sns.violinplot(x = 'labels', y = 'Alarm_Type', data = b)"
   ]
  },
  {
   "cell_type": "code",
   "execution_count": 50,
   "metadata": {},
   "outputs": [
    {
     "data": {
      "text/plain": [
       "<matplotlib.axes._subplots.AxesSubplot at 0x14582c5c0>"
      ]
     },
     "execution_count": 50,
     "metadata": {},
     "output_type": "execute_result"
    },
    {
     "data": {
      "image/png": "[encoded data removed]",
      "text/plain": [
       "<matplotlib.figure.Figure at 0x1456d7160>"
      ]
     },
     "metadata": {},
     "output_type": "display_data"
    }
   ],
   "source": [
    "sns.violinplot(x = 'labels', y = 'ehourCat', data = b)"
   ]
  },
  {
   "cell_type": "code",
   "execution_count": 52,
   "metadata": {},
   "outputs": [
    {
     "data": {
      "text/plain": [
       "<matplotlib.axes._subplots.AxesSubplot at 0x14524eb38>"
      ]
     },
     "execution_count": 52,
     "metadata": {},
     "output_type": "execute_result"
    },
    {
     "data": {
      "image/png": "[encoded data removed]",
      "text/plain": [
       "<matplotlib.figure.Figure at 0x145851d30>"
      ]
     },
     "metadata": {},
     "output_type": "display_data"
    }
   ],
   "source": [
    "sns.violinplot(x = 'labels', y = 'Pothole_Severity', data = b)"
   ]
  },
  {
   "cell_type": "code",
   "execution_count": 57,
   "metadata": {},
   "outputs": [
    {
     "data": {
      "text/plain": [
       "<seaborn.axisgrid.PairGrid at 0x115e8bc88>"
      ]
     },
     "execution_count": 57,
     "metadata": {},
     "output_type": "execute_result"
    },
    {
     "data": {
      "image/png": "[encoded data removed]",
      "text/plain": [
       "<matplotlib.figure.Figure at 0x10eb00898>"
      ]
     },
     "metadata": {},
     "output_type": "display_data"
    }
   ],
   "source": [
    "sns.pairplot(b, hue = 'labels')"
   ]
  }
 ],
 "metadata": {
  "kernelspec": {
   "display_name": "Python 3",
   "language": "python",
   "name": "python3"
  },
  "language_info": {
   "codemirror_mode": {
    "name": "ipython",
    "version": 3
   },
   "file_extension": ".py",
   "mimetype": "text/x-python",
   "name": "python",
   "nbconvert_exporter": "python",
   "pygments_lexer": "ipython3",
   "version": "3.6.4"
  }
 },
 "nbformat": 4,
 "nbformat_minor": 2
}
